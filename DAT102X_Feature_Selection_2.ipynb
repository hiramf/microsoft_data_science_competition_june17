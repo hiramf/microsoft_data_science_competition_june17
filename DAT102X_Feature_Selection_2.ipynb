{
 "cells": [
  {
   "cell_type": "code",
   "execution_count": 1,
   "metadata": {
    "collapsed": false
   },
   "outputs": [
    {
     "name": "stderr",
     "output_type": "stream",
     "text": [
      "C:\\ProgramData\\Anaconda3\\lib\\site-packages\\sklearn\\cross_validation.py:44: DeprecationWarning: This module was deprecated in version 0.18 in favor of the model_selection module into which all the refactored classes and functions are moved. Also note that the interface of the new CV iterators are different from that of this module. This module will be removed in 0.20.\n",
      "  \"This module will be removed in 0.20.\", DeprecationWarning)\n"
     ]
    }
   ],
   "source": [
    "import pandas as pd\n",
    "import numpy as np\n",
    "import matplotlib.pyplot as plt\n",
    "from IPython.display import display\n",
    "%matplotlib inline\n",
    "plt.style.use('ggplot')\n",
    "import seaborn as sns\n",
    "from sklearn.pipeline import Pipeline\n",
    "from sklearn.preprocessing import Imputer, OneHotEncoder, RobustScaler, StandardScaler\n",
    "from sklearn.model_selection import train_test_split, GridSearchCV\n",
    "from sklearn.ensemble import RandomForestRegressor, GradientBoostingRegressor\n",
    "from sklearn.metrics import mean_squared_error\n",
    "from sklearn.cluster import KMeans\n",
    "from sklearn.decomposition import PCA\n",
    "from xgboost import XGBRegressor"
   ]
  },
  {
   "cell_type": "code",
   "execution_count": 21,
   "metadata": {
    "collapsed": false
   },
   "outputs": [],
   "source": [
    "x = pd.read_csv('train_values.csv', index_col='row_id')\n",
    "test = pd.read_csv('test_values.csv', index_col='row_id')\n",
    "y = pd.read_csv('train_labels.csv', index_col='row_id')\n",
    "x.drop('report_year', axis=1, inplace=True)"
   ]
  },
  {
   "cell_type": "code",
   "execution_count": 3,
   "metadata": {
    "collapsed": false
   },
   "outputs": [],
   "source": [
    "aid_clusters = ['aid__cumulative_debt_75th_percentile', \n",
    "                'aid__cumulative_debt_90th_percentile',\n",
    "                'aid__median_debt_completers_monthly_payments', \n",
    "                'aid__median_debt_completers_overall']\n",
    "\n",
    "cost_clusters = ['cost__attendance_academic_year',\n",
    "                'cost__tuition_in_state']\n",
    "\n",
    "kmeans = KMeans(n_clusters=2, random_state=0)\n",
    "\n",
    "temp = x.loc[:, aid_clusters]\n",
    "temp.fillna(temp.mean(), inplace=True)\n",
    "kmeans.fit(temp)\n",
    "x['custom__aid_clusters'] = kmeans.labels_ \n",
    "\n",
    "temp = x.loc[:, cost_clusters]\n",
    "temp.fillna(temp.mean(), inplace=True)\n",
    "kmeans.fit(temp)\n",
    "x['custom__cost_clusters'] = kmeans.labels_"
   ]
  },
  {
   "cell_type": "code",
   "execution_count": 4,
   "metadata": {
    "collapsed": true
   },
   "outputs": [],
   "source": [
    "x['custom__academics_num_bach'] = x.filter(like='_bach').replace(0,np.nan).sum(axis=1)\n",
    "x['custom__school_campus'] = x.school__main_campus.isin(['Main campus']).astype('int')\n",
    "x['custom__religious_high'] = x.school__religious_affiliation.isin(['myw','cxp','pdf','aiy','thg','zug','sdh','bmv','fxo','qys',\n",
    "                                             'nnm','onn','ibe','ntl','smi','aai','huu','mix','dpu','fuf','dqz','hmn',\n",
    "                                             'xds','qzo','mky','hap','fiy','gju','lrj','emi','ddx','jqf']).astype('int')\n",
    "x['custom__religious_low'] = x.school__religious_affiliation.isin(['wxa', 'prn', 'qyb', 'nhu','uac', 'rgp', 'iqp',]).astype('int')\n",
    "x['custom__school_state_low'] = x.school__state.isin(['tus', 'nni','noz','ugr','aku','kta','qbv','iju','msx','qid','fen','bbk','sbh','uod',\n",
    "                                           'gai','idl','gzi','xfa','qua','yyg','xtb','dlg','pgp','krj','bxo','zms','ste',]).astype('int')\n",
    "x['custom__school_state_high'] = x.school__state.isin(['prq', 'mig', 'tdb', 'iya', 'wzk', 'afu', 'iyc', 'exw', 'npw', 'rmt','jor','cyf','cmn','ncw','usz',\n",
    "                                           'tlt','kho','xhl','dhx','nja','ony','rbl','xgy','fyo','das','fjm','hgy']).astype('int')\n",
    "x['custom__school_degrees_awarded_graduate'] = x.school__degrees_awarded_highest.isin(['Graduate degree']).astype('int')\n",
    "x['custom__school_region_low'] = x.school__region_id.isin(['Southwest (AZ, NM, OK, TX)', \n",
    "                                 'Southeast (AL, AR, FL, GA, KY, LA, MS, NC, SC, TN, VA, WV)',\n",
    "                                 'Outlying Areas (AS, FM, GU, MH, MP, PR, PW, VI)',\n",
    "                                ]).astype('int')\n",
    "x['custom__school_region_high'] = x.school__region_id.isin(['New England (CT, ME, MA, NH, RI, VT)',\n",
    "                                'Mid East (DE, DC, MD, NJ, NY, PA)',\n",
    "                                'Plains (IA, KS, MN, MO, NE, ND, SD)',\n",
    "                                'U.S. Service Schools']).astype('int')\n",
    "x['custom__carnegie_undergrad_low'] = x.school__carnegie_undergrad.isin(['Four-year, full-time, inclusive, lower transfer-in', \n",
    "                                         'Four-year, higher part-time',\n",
    "                                         'Four-year, medium full-time, inclusive, lower transfer-in',\n",
    "                                         'Two-year, medium full-time',\n",
    "                                         'Two-year, higher full-time',\n",
    "                                         'Not applicable',\n",
    "                                         'Two-year, mixed part/full-time',\n",
    "                                         'Four-year, medium full-time, inclusive, higher transfer-in',\n",
    "                                         'Two-year, higher part-time',]).astype('int')\n",
    "x['custom__carnegie_undergrad_high'] = x.school__carnegie_undergrad.isin(['Four-year, full-time, more selective, lower transfer-in',\n",
    "                                         'Four-year, full-time, more selective, higher transfer-in',\n",
    "                                         'Four-year, full-time, selective, higher transfer-in',\n",
    "                                         'Four-year, full-time, selective, lower transfer-in',\n",
    "                                         'Four-year, medium full-time, selective, lower transfer-in',\n",
    "                                         'Four-year, medium full-time, selective, higher transfer-in',\n",
    "                                         'Not classified (Exclusively Graduate)']).astype('int')\n",
    "x['custom__school_carnegie_size_setting_high'] = x.school__carnegie_size_setting.isin(['Four-year, large, highly residential',\n",
    "                                             'Four-year, large, primarily residential',\n",
    "                                             'Four-year, medium, highly residential',\n",
    "                                             'Four-year, medium, primarily residential',\n",
    "                                             'Four-year, small, highly residential',\n",
    "                                             'Exclusively graduate/professional',\n",
    "                                             'Four-year, small, primarily residential'\n",
    "                                         ]).astype('int')\n",
    "x['custom__school_carnegie_size_setting_low'] = x.school__carnegie_size_setting.isin(['Four-year, very small, primarily nonresidential',\n",
    "                                             'Not applicable',\n",
    "                                             'Two-year, large',\n",
    "                                             'Two-year, medium',\n",
    "                                             'Two-year, small',\n",
    "                                             'Two-year, very large',\n",
    "                                             'Two-year, very small'\n",
    "                                         ]).astype('int')\n",
    "x['custom__carnegie_basic_high'] = x.school__carnegie_basic.isin(['Baccalaureate Colleges: Arts & Sciences Focus',\n",
    "                                      'Doctoral Universities: Highest Research Activity',\n",
    "                                      \"Master's Colleges & Universities: Larger Programs\",\n",
    "                                      'Doctoral Universities: Higher Research Activity',\n",
    "                                      \"Master's Colleges & Universities: Medium Programs\",\n",
    "                                      'Special Focus Four-Year: Medical Schools & Centers',\n",
    "                                      \"Master's Colleges & Universities: Small Programs\",\n",
    "                                      \"Doctoral Universities: Moderate Research Activity\",\n",
    "                                      \"Special Focus Four-Year: Law Schools\",\n",
    "                                      \"Special Focus Four-Year: Engineering Schools\",                                      \n",
    "                                         ]).astype('int')\n",
    "x['custom__carnegie_basic_low'] = x.school__carnegie_basic.isin(['Not applicable',\n",
    "                                      \"Baccalaureate/Associate's Colleges: Mixed Baccalaureate/Associate's\",\n",
    "                                      \"Special Focus Two-Year: Health Professions\",\n",
    "                                      \"Baccalaureate/Associate's Colleges: Associate's Dominant\",\n",
    "                                      \"Associate's Colleges: High Vocational & Technical-High Nontraditional\",\n",
    "                                      \"Special Focus Four-Year: Other Technology-Related Schools\",\n",
    "                                      \"Associate's Colleges: High Vocational & Technical-Mixed Traditional/Nontraditional\",\n",
    "                                      \"Special Focus Two-Year: Other Fields\",\n",
    "                                      \"Special Focus Four-Year: Business & Management Schools\",\n",
    "                                      \"Associate's Colleges: Mixed Transfer/Vocational & Technical-Mixed Traditional/Nontraditional\"\n",
    "                                     ]).astype('int')\n",
    "x['custom__school_degrees_predominant_high'] = x.school__degrees_awarded_predominant.isin([\"Predominantly bachelor's-degree granting\",\n",
    "                                                  \"Entirely graduate-degree granting\"\n",
    "                                                  ]).astype('int')\n",
    "x['custom__school_institutional_characteristics_level'] = x.school__institutional_characteristics_level.isin(['4-year']).astype('int')\n",
    "x['custom__school_ownership'] = x.school__ownership.isin([\"Private nonprofit\", \"Public\"]).astype('int')\n",
    "x['custom__school_online'] = x.school__online_only.isin(['Not distance-education only']).astype('int')\n",
    "x['custom__school_locale'] = x.school__locale.isin(['Suburb: Large (outside principal city, in urbanized area with population of 250,000 or more)',\n",
    "                                            'City: Large (population of 250,000 or more)',\n",
    "                                            'City: Midsize (population of at least 100,000 but less than 250,000)',\n",
    "                                            'Rural: Fringe (rural territory up to 5 miles from an urbanized area or up to 2.5 miles from an urban cluster)']).astype('int')"
   ]
  },
  {
   "cell_type": "code",
   "execution_count": 5,
   "metadata": {
    "collapsed": false
   },
   "outputs": [],
   "source": [
    "log_cols = ['cost__title_iv_private_by_income_level_75001_110000',\n",
    "          'cost__title_iv_public_by_income_level_110001_plus',\n",
    "          'completion__completion_cohort_4yr_100nt',\n",
    "          'cost__title_iv_private_by_income_level_75001_110000',       \n",
    "           ]\n",
    "for col in log_cols:\n",
    "    x['custom__log_{}'.format(col)] = x[col].map(lambda x: np.log(x+1))"
   ]
  },
  {
   "cell_type": "code",
   "execution_count": 6,
   "metadata": {
    "collapsed": true
   },
   "outputs": [],
   "source": [
    "log_percentage = ['academics__program_percentage_english', 'academics__program_percentage_history', \n",
    "                  'academics__program_percentage_social_science', 'student__demographics_veteran']\n",
    "for col in log_percentage:\n",
    "    x['custom__log_{}'.format(col)] = x[col].map(lambda x: np.log(x*100+1))"
   ]
  },
  {
   "cell_type": "code",
   "execution_count": 37,
   "metadata": {
    "collapsed": false
   },
   "outputs": [
    {
     "data": {
      "text/plain": [
       "admissions__act_scores_25th_percentile_cumulative          False\n",
       "admissions__act_scores_25th_percentile_english             False\n",
       "admissions__act_scores_25th_percentile_math                False\n",
       "admissions__act_scores_25th_percentile_writing             False\n",
       "admissions__act_scores_75th_percentile_cumulative          False\n",
       "admissions__act_scores_75th_percentile_english             False\n",
       "admissions__act_scores_75th_percentile_math                False\n",
       "admissions__act_scores_75th_percentile_writing             False\n",
       "admissions__act_scores_midpoint_cumulative                 False\n",
       "admissions__act_scores_midpoint_english                    False\n",
       "admissions__act_scores_midpoint_math                       False\n",
       "admissions__act_scores_midpoint_writing                    False\n",
       "admissions__sat_scores_25th_percentile_critical_reading    False\n",
       "admissions__sat_scores_25th_percentile_math                False\n",
       "admissions__sat_scores_25th_percentile_writing             False\n",
       "admissions__sat_scores_75th_percentile_critical_reading    False\n",
       "admissions__sat_scores_75th_percentile_math                False\n",
       "admissions__sat_scores_75th_percentile_writing             False\n",
       "admissions__sat_scores_average_by_ope_id                   False\n",
       "admissions__sat_scores_average_overall                     False\n",
       "admissions__sat_scores_midpoint_critical_reading           False\n",
       "admissions__sat_scores_midpoint_math                       False\n",
       "admissions__sat_scores_midpoint_writing                    False\n",
       "custom__scores_PCA                                         False\n",
       "dtype: bool"
      ]
     },
     "execution_count": 37,
     "metadata": {},
     "output_type": "execute_result"
    }
   ],
   "source": [
    "x.filter(like='scores').fillna(0).isnull().any()"
   ]
  },
  {
   "cell_type": "code",
   "execution_count": 34,
   "metadata": {
    "collapsed": false
   },
   "outputs": [
    {
     "name": "stdout",
     "output_type": "stream",
     "text": [
      "(0.58615401489475116, 0.0)\n"
     ]
    }
   ],
   "source": [
    "components = 1\n",
    "\n",
    "\n",
    "pipe = Pipeline([#('imputer', Imputer(strategy='median')),\n",
    "                 ('scaler', RobustScaler()),\n",
    "                 ('pca', PCA(n_components=components))])\n",
    "\n",
    "temp = x.filter(like='_scores_').fillna(0)\n",
    "pipe.fit(temp)\n",
    "temp = pipe.transform(temp)\n",
    "\n",
    "from scipy import stats\n",
    "for i in range(components):\n",
    "    print(stats.pearsonr(temp[:,i], y['repayment_rate']))\n",
    "    \n",
    "x['custom__scores_PCA'] = temp[:,0] #pearson r: 0.3299\n",
    "\n",
    "#x.drop(list(x.filter(like='_scores_')), axis=1, inplace=True)"
   ]
  },
  {
   "cell_type": "code",
   "execution_count": 39,
   "metadata": {
    "collapsed": false
   },
   "outputs": [
    {
     "data": {
      "text/plain": [
       "(0.56670670187854411, 0.0)"
      ]
     },
     "execution_count": 39,
     "metadata": {},
     "output_type": "execute_result"
    }
   ],
   "source": [
    "stats.pearsonr(x['admissions__act_scores_midpoint_cumulative'].fillna(0), y['repayment_rate'])"
   ]
  },
  {
   "cell_type": "code",
   "execution_count": 9,
   "metadata": {
    "collapsed": false,
    "scrolled": true
   },
   "outputs": [],
   "source": [
    "bachelors = ['biological', 'communication', 'computer', 'education', 'health', 'history', 'mathematics', 'humanities', 'language', \n",
    "'multidiscipline', 'philosophy_religious', 'physical_science', 'psychology', 'social_science', 'visual_performing']\n",
    "bachelors = ['academics__program_bachelors_{}'.format(i) for i in bachelors]\n",
    "temp = x.loc[:,bachelors] == 1\n",
    "x['custom__academics_program_bachelors_good'] = temp.sum(axis=1)\n",
    "\n",
    "x['custom__academics_program_percentage_health'] = x['academics__program_percentage_health'].replace(1, np.nan)\n",
    "x['custom__academics_program_bachelors_business_0'] = x.academics__program_bachelors_business_marketing.isin([1]).astype('int')\n",
    "\n",
    "x['custom__cost'] = x['cost__tuition_out_of_state'].fillna(x['cost__tuition_out_of_state'].mean())\n",
    "x.drop(list(x.filter(like='cost__')), axis=1, inplace=True)\n",
    "\n",
    "x['custom__student__share_low_income'] = x['student__share_lowincome_0_30000'].fillna(x['student__share_lowincome_0_30000'].mean())\n",
    "x['custom__student_pell_grant'] = x['student__students_with_pell_grant'].fillna(x['student__students_with_pell_grant'].mean())"
   ]
  },
  {
   "cell_type": "code",
   "execution_count": 10,
   "metadata": {
    "collapsed": false
   },
   "outputs": [],
   "source": [
    "x.replace(['Yes', 'No'], [1,0], inplace=True)\n",
    "x.replace(['Main campus', 'Not main campus'], [1,0], inplace=True)\n",
    "#x.drop('school__men_only', axis=1, inplace=True)\n",
    "#x.drop('school__women_only', axis=1, inplace=True)\n",
    "#x.drop('school__main_campus', axis=1, inplace=True)\n",
    "#x.drop('school__religious_affiliation', axis=1, inplace=True)\n",
    "#x.drop('school__degrees_awarded_highest', axis=1, inplace=True)\n",
    "#x.drop('school__region_id', axis=1, inplace=True)\n",
    "#x.drop('school__carnegie_undergrad', axis=1, inplace=True)\n",
    "#x.drop('school__carnegie_size_setting', axis=1, inplace=True)\n",
    "#x.drop('school__carnegie_basic', axis=1, inplace=True)\n",
    "#x.drop('school__state', axis=1, inplace=True)\n",
    "#x.drop('school__degrees_awarded_predominant', axis=1, inplace=True)\n",
    "#x.drop('school__institutional_characteristics_level', axis=1, inplace=True)\n",
    "#x.drop('school__ownership', axis=1, inplace=True)\n",
    "#x.drop('school__online_only', axis=1, inplace=True)                                          \n",
    "#x.drop('school__locale', axis=1, inplace=True)\n",
    "#x.drop('academics__program_bachelors_business_marketing', axis=1, inplace=True)\n",
    "#x.drop(list(x.filter(like='academcics__program_bach')), axis=1, inplace=True)\n",
    "x.drop(list(x.filter(like='academics__program_as')), axis=1, inplace=True)\n",
    "x.drop(list(x.filter(like='academics__program_cert')), axis=1, inplace=True)\n",
    "#x.drop(list(x.filter(like='academics__program_percentage')), axis=1, inplace=True)"
   ]
  },
  {
   "cell_type": "code",
   "execution_count": 11,
   "metadata": {
    "collapsed": true
   },
   "outputs": [],
   "source": [
    "df = pd.get_dummies(x, dummy_na=True)"
   ]
  },
  {
   "cell_type": "code",
   "execution_count": 12,
   "metadata": {
    "collapsed": false
   },
   "outputs": [
    {
     "name": "stdout",
     "output_type": "stream",
     "text": [
      "(8705, 289)\n",
      "(8705, 505)\n"
     ]
    }
   ],
   "source": [
    "print(x.shape)\n",
    "print(df.shape)"
   ]
  },
  {
   "cell_type": "code",
   "execution_count": 13,
   "metadata": {
    "collapsed": true
   },
   "outputs": [],
   "source": [
    "X_train, X_test, y_train, y_test = train_test_split(df, y['repayment_rate'], random_state=80) "
   ]
  },
  {
   "cell_type": "code",
   "execution_count": 14,
   "metadata": {
    "collapsed": false,
    "scrolled": true
   },
   "outputs": [
    {
     "ename": "KeyboardInterrupt",
     "evalue": "",
     "output_type": "error",
     "traceback": [
      "\u001b[0;31m---------------------------------------------------------------------------\u001b[0m",
      "\u001b[0;31mKeyboardInterrupt\u001b[0m                         Traceback (most recent call last)",
      "\u001b[0;32m<ipython-input-14-a646f773e467>\u001b[0m in \u001b[0;36m<module>\u001b[0;34m()\u001b[0m\n\u001b[1;32m      2\u001b[0m                  ('regressor', XGBRegressor(n_estimators=1000, max_depth=8, nthread=4))])\n\u001b[1;32m      3\u001b[0m \u001b[1;33m\u001b[0m\u001b[0m\n\u001b[0;32m----> 4\u001b[0;31m \u001b[0mpipe\u001b[0m\u001b[1;33m.\u001b[0m\u001b[0mfit\u001b[0m\u001b[1;33m(\u001b[0m\u001b[0mX_train\u001b[0m\u001b[1;33m,\u001b[0m \u001b[0my_train\u001b[0m\u001b[1;33m)\u001b[0m\u001b[1;33m\u001b[0m\u001b[0m\n\u001b[0m\u001b[1;32m      5\u001b[0m \u001b[1;33m\u001b[0m\u001b[0m\n\u001b[1;32m      6\u001b[0m \u001b[0mprint\u001b[0m\u001b[1;33m(\u001b[0m\u001b[1;34m'Training Set Score: {:.3f}'\u001b[0m\u001b[1;33m.\u001b[0m\u001b[0mformat\u001b[0m\u001b[1;33m(\u001b[0m\u001b[0mpipe\u001b[0m\u001b[1;33m.\u001b[0m\u001b[0mscore\u001b[0m\u001b[1;33m(\u001b[0m\u001b[0mX_train\u001b[0m\u001b[1;33m,\u001b[0m \u001b[0my_train\u001b[0m\u001b[1;33m)\u001b[0m\u001b[1;33m)\u001b[0m\u001b[1;33m)\u001b[0m\u001b[1;33m\u001b[0m\u001b[0m\n",
      "\u001b[0;32mC:\\ProgramData\\Anaconda3\\lib\\site-packages\\sklearn\\pipeline.py\u001b[0m in \u001b[0;36mfit\u001b[0;34m(self, X, y, **fit_params)\u001b[0m\n\u001b[1;32m    268\u001b[0m         \u001b[0mXt\u001b[0m\u001b[1;33m,\u001b[0m \u001b[0mfit_params\u001b[0m \u001b[1;33m=\u001b[0m \u001b[0mself\u001b[0m\u001b[1;33m.\u001b[0m\u001b[0m_fit\u001b[0m\u001b[1;33m(\u001b[0m\u001b[0mX\u001b[0m\u001b[1;33m,\u001b[0m \u001b[0my\u001b[0m\u001b[1;33m,\u001b[0m \u001b[1;33m**\u001b[0m\u001b[0mfit_params\u001b[0m\u001b[1;33m)\u001b[0m\u001b[1;33m\u001b[0m\u001b[0m\n\u001b[1;32m    269\u001b[0m         \u001b[1;32mif\u001b[0m \u001b[0mself\u001b[0m\u001b[1;33m.\u001b[0m\u001b[0m_final_estimator\u001b[0m \u001b[1;32mis\u001b[0m \u001b[1;32mnot\u001b[0m \u001b[1;32mNone\u001b[0m\u001b[1;33m:\u001b[0m\u001b[1;33m\u001b[0m\u001b[0m\n\u001b[0;32m--> 270\u001b[0;31m             \u001b[0mself\u001b[0m\u001b[1;33m.\u001b[0m\u001b[0m_final_estimator\u001b[0m\u001b[1;33m.\u001b[0m\u001b[0mfit\u001b[0m\u001b[1;33m(\u001b[0m\u001b[0mXt\u001b[0m\u001b[1;33m,\u001b[0m \u001b[0my\u001b[0m\u001b[1;33m,\u001b[0m \u001b[1;33m**\u001b[0m\u001b[0mfit_params\u001b[0m\u001b[1;33m)\u001b[0m\u001b[1;33m\u001b[0m\u001b[0m\n\u001b[0m\u001b[1;32m    271\u001b[0m         \u001b[1;32mreturn\u001b[0m \u001b[0mself\u001b[0m\u001b[1;33m\u001b[0m\u001b[0m\n\u001b[1;32m    272\u001b[0m \u001b[1;33m\u001b[0m\u001b[0m\n",
      "\u001b[0;32mC:\\ProgramData\\Anaconda3\\lib\\site-packages\\xgboost\\sklearn.py\u001b[0m in \u001b[0;36mfit\u001b[0;34m(self, X, y, eval_set, eval_metric, early_stopping_rounds, verbose)\u001b[0m\n\u001b[1;32m    249\u001b[0m                               \u001b[0mearly_stopping_rounds\u001b[0m\u001b[1;33m=\u001b[0m\u001b[0mearly_stopping_rounds\u001b[0m\u001b[1;33m,\u001b[0m\u001b[1;33m\u001b[0m\u001b[0m\n\u001b[1;32m    250\u001b[0m                               \u001b[0mevals_result\u001b[0m\u001b[1;33m=\u001b[0m\u001b[0mevals_result\u001b[0m\u001b[1;33m,\u001b[0m \u001b[0mobj\u001b[0m\u001b[1;33m=\u001b[0m\u001b[0mobj\u001b[0m\u001b[1;33m,\u001b[0m \u001b[0mfeval\u001b[0m\u001b[1;33m=\u001b[0m\u001b[0mfeval\u001b[0m\u001b[1;33m,\u001b[0m\u001b[1;33m\u001b[0m\u001b[0m\n\u001b[0;32m--> 251\u001b[0;31m                               verbose_eval=verbose)\n\u001b[0m\u001b[1;32m    252\u001b[0m \u001b[1;33m\u001b[0m\u001b[0m\n\u001b[1;32m    253\u001b[0m         \u001b[1;32mif\u001b[0m \u001b[0mevals_result\u001b[0m\u001b[1;33m:\u001b[0m\u001b[1;33m\u001b[0m\u001b[0m\n",
      "\u001b[0;32mC:\\ProgramData\\Anaconda3\\lib\\site-packages\\xgboost\\training.py\u001b[0m in \u001b[0;36mtrain\u001b[0;34m(params, dtrain, num_boost_round, evals, obj, feval, maximize, early_stopping_rounds, evals_result, verbose_eval, learning_rates, xgb_model, callbacks)\u001b[0m\n\u001b[1;32m    203\u001b[0m                            \u001b[0mevals\u001b[0m\u001b[1;33m=\u001b[0m\u001b[0mevals\u001b[0m\u001b[1;33m,\u001b[0m\u001b[1;33m\u001b[0m\u001b[0m\n\u001b[1;32m    204\u001b[0m                            \u001b[0mobj\u001b[0m\u001b[1;33m=\u001b[0m\u001b[0mobj\u001b[0m\u001b[1;33m,\u001b[0m \u001b[0mfeval\u001b[0m\u001b[1;33m=\u001b[0m\u001b[0mfeval\u001b[0m\u001b[1;33m,\u001b[0m\u001b[1;33m\u001b[0m\u001b[0m\n\u001b[0;32m--> 205\u001b[0;31m                            xgb_model=xgb_model, callbacks=callbacks)\n\u001b[0m\u001b[1;32m    206\u001b[0m \u001b[1;33m\u001b[0m\u001b[0m\n\u001b[1;32m    207\u001b[0m \u001b[1;33m\u001b[0m\u001b[0m\n",
      "\u001b[0;32mC:\\ProgramData\\Anaconda3\\lib\\site-packages\\xgboost\\training.py\u001b[0m in \u001b[0;36m_train_internal\u001b[0;34m(params, dtrain, num_boost_round, evals, obj, feval, xgb_model, callbacks)\u001b[0m\n\u001b[1;32m     74\u001b[0m         \u001b[1;31m# Skip the first update if it is a recovery step.\u001b[0m\u001b[1;33m\u001b[0m\u001b[1;33m\u001b[0m\u001b[0m\n\u001b[1;32m     75\u001b[0m         \u001b[1;32mif\u001b[0m \u001b[0mversion\u001b[0m \u001b[1;33m%\u001b[0m \u001b[1;36m2\u001b[0m \u001b[1;33m==\u001b[0m \u001b[1;36m0\u001b[0m\u001b[1;33m:\u001b[0m\u001b[1;33m\u001b[0m\u001b[0m\n\u001b[0;32m---> 76\u001b[0;31m             \u001b[0mbst\u001b[0m\u001b[1;33m.\u001b[0m\u001b[0mupdate\u001b[0m\u001b[1;33m(\u001b[0m\u001b[0mdtrain\u001b[0m\u001b[1;33m,\u001b[0m \u001b[0mi\u001b[0m\u001b[1;33m,\u001b[0m \u001b[0mobj\u001b[0m\u001b[1;33m)\u001b[0m\u001b[1;33m\u001b[0m\u001b[0m\n\u001b[0m\u001b[1;32m     77\u001b[0m             \u001b[0mbst\u001b[0m\u001b[1;33m.\u001b[0m\u001b[0msave_rabit_checkpoint\u001b[0m\u001b[1;33m(\u001b[0m\u001b[1;33m)\u001b[0m\u001b[1;33m\u001b[0m\u001b[0m\n\u001b[1;32m     78\u001b[0m             \u001b[0mversion\u001b[0m \u001b[1;33m+=\u001b[0m \u001b[1;36m1\u001b[0m\u001b[1;33m\u001b[0m\u001b[0m\n",
      "\u001b[0;32mC:\\ProgramData\\Anaconda3\\lib\\site-packages\\xgboost\\core.py\u001b[0m in \u001b[0;36mupdate\u001b[0;34m(self, dtrain, iteration, fobj)\u001b[0m\n\u001b[1;32m    804\u001b[0m \u001b[1;33m\u001b[0m\u001b[0m\n\u001b[1;32m    805\u001b[0m         \u001b[1;32mif\u001b[0m \u001b[0mfobj\u001b[0m \u001b[1;32mis\u001b[0m \u001b[1;32mNone\u001b[0m\u001b[1;33m:\u001b[0m\u001b[1;33m\u001b[0m\u001b[0m\n\u001b[0;32m--> 806\u001b[0;31m             \u001b[0m_check_call\u001b[0m\u001b[1;33m(\u001b[0m\u001b[0m_LIB\u001b[0m\u001b[1;33m.\u001b[0m\u001b[0mXGBoosterUpdateOneIter\u001b[0m\u001b[1;33m(\u001b[0m\u001b[0mself\u001b[0m\u001b[1;33m.\u001b[0m\u001b[0mhandle\u001b[0m\u001b[1;33m,\u001b[0m \u001b[0miteration\u001b[0m\u001b[1;33m,\u001b[0m \u001b[0mdtrain\u001b[0m\u001b[1;33m.\u001b[0m\u001b[0mhandle\u001b[0m\u001b[1;33m)\u001b[0m\u001b[1;33m)\u001b[0m\u001b[1;33m\u001b[0m\u001b[0m\n\u001b[0m\u001b[1;32m    807\u001b[0m         \u001b[1;32melse\u001b[0m\u001b[1;33m:\u001b[0m\u001b[1;33m\u001b[0m\u001b[0m\n\u001b[1;32m    808\u001b[0m             \u001b[0mpred\u001b[0m \u001b[1;33m=\u001b[0m \u001b[0mself\u001b[0m\u001b[1;33m.\u001b[0m\u001b[0mpredict\u001b[0m\u001b[1;33m(\u001b[0m\u001b[0mdtrain\u001b[0m\u001b[1;33m)\u001b[0m\u001b[1;33m\u001b[0m\u001b[0m\n",
      "\u001b[0;31mKeyboardInterrupt\u001b[0m: "
     ]
    }
   ],
   "source": [
    "pipe = Pipeline([('imputer', Imputer(strategy='median')),\n",
    "                 ('regressor', XGBRegressor(n_estimators=1000, max_depth=8, nthread=4))])\n",
    "                      \n",
    "pipe.fit(X_train, y_train)\n",
    "\n",
    "print('Training Set Score: {:.3f}'.format(pipe.score(X_train, y_train)))\n",
    "print('Test Set Score: {:.3f}'.format(pipe.score(X_test, y_test)))\n",
    "print('RMSE: {}'.format(np.sqrt(mean_squared_error(y_test, pipe.predict(X_test)))))"
   ]
  },
  {
   "cell_type": "code",
   "execution_count": null,
   "metadata": {
    "collapsed": false
   },
   "outputs": [],
   "source": [
    "pipe = Pipeline([('imputer', Imputer(strategy='median')),\n",
    "                 ('regressor', XGBRegressor(n_estimators=1000, nthread=4))])\n",
    "                      \n",
    "\n",
    "param_grid = {'regressor__max_depth':[8, 10, 13, 15]}\n",
    "\n",
    "grid = GridSearchCV(pipe, param_grid=param_grid, cv=3, n_jobs=-1, verbose=1)\n",
    "\n",
    "grid.fit(X_train, y_train)\n",
    "\n",
    "print('Best CV Accuracy: {:.3f}'.format(grid.best_score_))\n",
    "print('Training Set Score: {:.3f}'.format(grid.score(X_train, y_train)))\n",
    "print('Test Set Score: {:.3f}'.format(grid.score(X_test, y_test)))\n",
    "print('Best_Parameters: {}'.format(grid.best_params_))\n",
    "print('RMSE: {}'.format(np.sqrt(mean_squared_error(y_test, grid.predict(X_test)))))"
   ]
  }
 ],
 "metadata": {
  "kernelspec": {
   "display_name": "Python 3",
   "language": "python",
   "name": "python3"
  },
  "language_info": {
   "codemirror_mode": {
    "name": "ipython",
    "version": 3
   },
   "file_extension": ".py",
   "mimetype": "text/x-python",
   "name": "python",
   "nbconvert_exporter": "python",
   "pygments_lexer": "ipython3",
   "version": "3.6.0"
  }
 },
 "nbformat": 4,
 "nbformat_minor": 2
}

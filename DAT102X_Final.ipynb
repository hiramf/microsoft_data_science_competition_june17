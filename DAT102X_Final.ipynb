{
 "cells": [
  {
   "cell_type": "code",
   "execution_count": 1,
   "metadata": {
    "collapsed": false
   },
   "outputs": [
    {
     "name": "stderr",
     "output_type": "stream",
     "text": [
      "C:\\ProgramData\\Anaconda3\\lib\\site-packages\\sklearn\\cross_validation.py:44: DeprecationWarning: This module was deprecated in version 0.18 in favor of the model_selection module into which all the refactored classes and functions are moved. Also note that the interface of the new CV iterators are different from that of this module. This module will be removed in 0.20.\n",
      "  \"This module will be removed in 0.20.\", DeprecationWarning)\n"
     ]
    }
   ],
   "source": [
    "import pandas as pd\n",
    "import numpy as np\n",
    "import matplotlib.pyplot as plt\n",
    "from IPython.display import display\n",
    "%matplotlib inline\n",
    "plt.style.use('ggplot')\n",
    "import seaborn as sns\n",
    "from sklearn.pipeline import Pipeline\n",
    "from sklearn.preprocessing import Imputer, OneHotEncoder, RobustScaler, StandardScaler\n",
    "from sklearn.model_selection import train_test_split, GridSearchCV\n",
    "from sklearn.ensemble import RandomForestRegressor, GradientBoostingRegressor\n",
    "from sklearn.metrics import mean_squared_error\n",
    "from sklearn.cluster import KMeans\n",
    "from sklearn.decomposition import PCA\n",
    "from xgboost import XGBRegressor"
   ]
  },
  {
   "cell_type": "code",
   "execution_count": 2,
   "metadata": {
    "collapsed": true
   },
   "outputs": [],
   "source": [
    "def split(df, labels):\n",
    "    return df.loc[:,labels]"
   ]
  },
  {
   "cell_type": "code",
   "execution_count": 20,
   "metadata": {
    "collapsed": false
   },
   "outputs": [],
   "source": [
    "def custom_cat(df):\n",
    "    df = df.replace(['Yes', 'No'], [1,0]).fillna(0)\n",
    "    df = df.replace(['Main campus', 'Not main campus'], [1,0]).fillna(0)\n",
    "    \n",
    "    df['custom__academics_num_bach'] = df.filter(like='_bach').sum(axis=1).astype('int')\n",
    "    \n",
    "    df['custom__school_campus'] = df.school__main_campus.isin(['Main campus']).astype('int')\n",
    "    \n",
    "    df['custom__religious_high'] = df.school__religious_affiliation.isin(['myw','cxp','pdf','aiy','thg','zug','sdh','bmv','fxo','qys',\n",
    "                                             'nnm','onn','ibe','ntl','smi','aai','huu','mix','dpu','fuf','dqz','hmn',\n",
    "                                             'xds','qzo','mky','hap','fiy','gju','lrj','emi','ddx','jqf']).astype('int')\n",
    "    df['custom__religious_low'] = df.school__religious_affiliation.isin(['wxa', 'prn', 'qyb', 'nhu','uac', 'rgp', 'iqp',]).astype('int')\n",
    "    df = df.drop(list(df.filter(like='school__religious_aff')), axis=1)\n",
    "        \n",
    "    df['custom__school_state_low'] = df.school__state.isin(['tus', 'nni','noz','ugr','aku','kta','qbv','iju','msx','qid','fen','bbk','sbh','uod',\n",
    "                                           'gai','idl','gzi','xfa','qua','yyg','xtb','dlg','pgp','krj','bxo','zms','ste',]).astype('int')\n",
    "    df['custom__school_state_high'] = df.school__state.isin(['prq', 'mig', 'tdb', 'iya', 'wzk', 'afu', 'iyc', 'exw', 'npw', 'rmt','jor','cyf','cmn','ncw','usz',\n",
    "                                           'tlt','kho','xhl','dhx','nja','ony','rbl','xgy','fyo','das','fjm','hgy']).astype('int')\n",
    "    df = df.drop(list(df.filter(like='school__state')), axis=1)\n",
    "    \n",
    "    df['custom__school_region_low'] = df.school__region_id.isin(['Southwest (AZ, NM, OK, TX)', \n",
    "                                 'Southeast (AL, AR, FL, GA, KY, LA, MS, NC, SC, TN, VA, WV)',\n",
    "                                 'Outlying Areas (AS, FM, GU, MH, MP, PR, PW, VI)',\n",
    "                                ]).astype('int')\n",
    "    df['custom__school_region_high'] = df.school__region_id.isin(['New England (CT, ME, MA, NH, RI, VT)',\n",
    "                                'Mid East (DE, DC, MD, NJ, NY, PA)',\n",
    "                                'Plains (IA, KS, MN, MO, NE, ND, SD)',\n",
    "                                'U.S. Service Schools']).astype('int')\n",
    "    df = df.drop(list(df.filter(like='school__region')), axis=1)\n",
    "    \n",
    "    df['custom__carnegie_undergrad_four_year'] = df.school__carnegie_undergrad.str.contains('Four', na=False).astype('int')\n",
    "    df['custom__carnegie_undergrad_two_year'] = df.school__carnegie_undergrad.str.contains('Two', na=False).astype('int')\n",
    "    df['custom__carnegie_undergrad_low_transfer'] = df.school__carnegie_undergrad.str.contains('lower', na=False).astype('int')\n",
    "    df['custom__carnegie_undergrad_high_transfer'] = df.school__carnegie_undergrad.str.contains('higher', na=False).astype('int')\n",
    "    df['custom__carnegie_undergrad_part_time'] = df.school__carnegie_undergrad.str.contains(' part', na=False).astype('int')\n",
    "    df['custom__carnegie_undergrad_full_time'] = df.school__carnegie_undergrad.str.contains(' full', na=False).astype('int')   \n",
    "    df['custom__carnegie_undergrad_inclusive'] = df.school__carnegie_undergrad.str.contains('inclusive', na=False).astype('int')\n",
    "    df['custom__carnegie_undergrad_selective'] = df.school__carnegie_undergrad.str.contains('selective', na=False).astype('int')\n",
    "\n",
    "    df['custom__carnegie_undergrad_low'] = df.school__carnegie_undergrad.isin(['Four-year, full-time, inclusive, lower transfer-in', \n",
    "                                         'Four-year, higher part-time',\n",
    "                                         'Four-year, medium full-time, inclusive, lower transfer-in',\n",
    "                                         'Two-year, medium full-time',\n",
    "                                         'Two-year, higher full-time',\n",
    "                                         'Not applicable',\n",
    "                                         'Two-year, mixed part/full-time',\n",
    "                                         'Four-year, medium full-time, inclusive, higher transfer-in',\n",
    "                                         'Two-year, higher part-time',]).astype('int')\n",
    "    df['custom__carnegie_undergrad_high'] = df.school__carnegie_undergrad.isin(['Four-year, full-time, more selective, lower transfer-in',\n",
    "                                         'Four-year, full-time, more selective, higher transfer-in',\n",
    "                                         'Four-year, full-time, selective, higher transfer-in',\n",
    "                                         'Four-year, full-time, selective, lower transfer-in',\n",
    "                                         'Four-year, medium full-time, selective, lower transfer-in',\n",
    "                                         'Four-year, medium full-time, selective, higher transfer-in',\n",
    "                                         'Not classified (Exclusively Graduate)']).astype('int')\n",
    "    df = df.drop('school__carnegie_undergrad', axis=1)\n",
    "    \n",
    "    df['custom__school_carnegie_size_setting_high'] = df.school__carnegie_size_setting.isin(['Four-year, large, highly residential',\n",
    "                                             'Four-year, large, primarily residential',\n",
    "                                             'Four-year, medium, highly residential',\n",
    "                                             'Four-year, medium, primarily residential',\n",
    "                                             'Four-year, small, highly residential',\n",
    "                                             'Exclusively graduate/professional',\n",
    "                                             'Four-year, small, primarily residential'\n",
    "                                         ]).astype('int')\n",
    "    df['custom__school_carnegie_size_setting_low'] = df.school__carnegie_size_setting.isin(['Four-year, very small, primarily nonresidential',\n",
    "                                             'Not applicable',\n",
    "                                             'Two-year, large',\n",
    "                                             'Two-year, medium',\n",
    "                                             'Two-year, small',\n",
    "                                             'Two-year, very large',\n",
    "                                             'Two-year, very small'\n",
    "                                         ]).astype('int')\n",
    "    df['custom__carnegie_size_large'] = df.school__carnegie_size_setting.str.contains('large', na=False).astype('int')\n",
    "    df['custom__carnegie_size_medium'] = df.school__carnegie_size_setting.str.contains('medium', na=False).astype('int')\n",
    "    df['custom__carnegie_size_small'] = df.school__carnegie_size_setting.str.contains('small', na=False).astype('int')\n",
    "    df['custom__carnegie_size_highly_residential'] = df.school__carnegie_size_setting.str.contains('highly', na=False).astype('int')\n",
    "    df['custom__carnegie_size_primarily_residential'] = df.school__carnegie_size_setting.str.contains('primarily', na=False).astype('int')\n",
    "    df = df.drop('school__carnegie_size_setting', axis=1)\n",
    "    \n",
    "    df['custom__carnegie_basic_high'] = df.school__carnegie_basic.isin(['Baccalaureate Colleges: Arts & Sciences Focus',\n",
    "                                      'Doctoral Universities: Highest Research Activity',\n",
    "                                      \"Master's Colleges & Universities: Larger Programs\",\n",
    "                                      'Doctoral Universities: Higher Research Activity',\n",
    "                                      \"Master's Colleges & Universities: Medium Programs\",\n",
    "                                      'Special Focus Four-Year: Medical Schools & Centers',\n",
    "                                      \"Master's Colleges & Universities: Small Programs\",\n",
    "                                      \"Doctoral Universities: Moderate Research Activity\",\n",
    "                                      \"Special Focus Four-Year: Law Schools\",\n",
    "                                      \"Special Focus Four-Year: Engineering Schools\",                                      \n",
    "                                         ]).astype('int')\n",
    "    df['custom__carnegie_basic_low'] = df.school__carnegie_basic.isin(['Not applicable',\n",
    "                                      \"Baccalaureate/Associate's Colleges: Mixed Baccalaureate/Associate's\",\n",
    "                                      \"Special Focus Two-Year: Health Professions\",\n",
    "                                      \"Baccalaureate/Associate's Colleges: Associate's Dominant\",\n",
    "                                      \"Associate's Colleges: High Vocational & Technical-High Nontraditional\",\n",
    "                                      \"Special Focus Four-Year: Other Technology-Related Schools\",\n",
    "                                      \"Associate's Colleges: High Vocational & Technical-Mixed Traditional/Nontraditional\",\n",
    "                                      \"Special Focus Two-Year: Other Fields\",\n",
    "                                      \"Special Focus Four-Year: Business & Management Schools\",\n",
    "                                      \"Associate's Colleges: Mixed Transfer/Vocational & Technical-Mixed Traditional/Nontraditional\"\n",
    "                                     ]).astype('int')\n",
    "    df['custom__carnegie_basic_bacc'] = df.school__carnegie_basic.str.contains('Baccalaureate', na=False).astype('int')\n",
    "    df['custom__carnegie_basic_special'] = df.school__carnegie_basic.str.contains('Special', na=False).astype('int')\n",
    "    df['custom__carnegie_basic_assoc'] = df.school__carnegie_basic.str.contains('Associate', na=False).astype('int')\n",
    "    df['custom__carnegie_basic_masters'] = df.school__carnegie_basic.str.contains('Master', na=False).astype('int')\n",
    "    df['custom__carnegie_basic_doc'] = df.school__carnegie_basic.str.contains('Doctoral', na=False).astype('int')\n",
    "    df = df.drop('school__carnegie_basic', axis=1)\n",
    "    \n",
    "    df['custom__school_online'] = df.school__online_only.isin(['Not distance-education only']).astype('int')\n",
    "    df = df.drop('school__online_only', axis=1)\n",
    "    \n",
    "    df['custom__school_locale'] = df.school__locale.isin(['Suburb: Large (outside principal city, in urbanized area with population of 250,000 or more)',\n",
    "                                            'City: Large (population of 250,000 or more)',\n",
    "                                            'City: Midsize (population of at least 100,000 but less than 250,000)',\n",
    "                                            'Rural: Fringe (rural territory up to 5 miles from an urbanized area or up to 2.5 miles from an urban cluster)']).astype('int')\n",
    "    df['custom__school_locale_city'] = df.school__locale.str.contains('City', na=False).astype('int')\n",
    "    df['custom__school_locale_suburb'] = df.school__locale.str.contains('Suburb', na=False).astype('int')\n",
    "    df['custom__school_locale_rural'] = df.school__locale.str.contains('Rural', na=False).astype('int')\n",
    "    df['custom__school_locale_town'] = df.school__locale.str.contains('Town', na=False).astype('int')\n",
    "    df = df.drop('school__locale', axis=1)\n",
    "    \n",
    "    bachelors = ['biological', 'communication', 'computer', 'education', 'health', 'history', 'mathematics', 'humanities', 'language', \n",
    "    'multidiscipline', 'philosophy_religious', 'physical_science', 'psychology', 'social_science', 'visual_performing']\n",
    "    bachelors = ['academics__program_bachelors_{}'.format(i) for i in bachelors]\n",
    "    temp = df.loc[:,bachelors] == 1\n",
    "    df['custom__academics_program_bachelors_good'] = temp.sum(axis=1)\n",
    "    df['custom__academics_program_bachelors_business'] = df.academics__program_bachelors_business_marketing.isin([1]).astype('int')\n",
    "\n",
    "    df = df.drop(list(df.filter(like='academics__program')), axis=1)\n",
    "    df = df.drop('report_year', axis=1)\n",
    "    \n",
    "    df = pd.get_dummies(df, dummy_na=True)\n",
    "    df['custom__sum_missing'] = df.loc[:,list(df.filter(like='nan'))].sum(axis=1)\n",
    "    df = df.drop(list(df.filter(like='nan')), axis=1)\n",
    "    #df = df.drop(list(df.filter(like='minority_serving')), axis=1)\n",
    "\n",
    "\n",
    "    return df"
   ]
  },
  {
   "cell_type": "code",
   "execution_count": 4,
   "metadata": {
    "collapsed": false
   },
   "outputs": [],
   "source": [
    "def custom_num(df):\n",
    "    log_cols = ['cost__title_iv_private_by_income_level_75001_110000', 'cost__title_iv_public_by_income_level_110001_plus',\n",
    "                'completion__completion_cohort_4yr_100nt', 'cost__title_iv_private_by_income_level_75001_110000']\n",
    "    for col in log_cols:\n",
    "        df['custom__log_{}'.format(col)] = df[col].map(lambda x: np.log(x+1))\n",
    "    \n",
    "    log_percentage = ['academics__program_percentage_english', 'academics__program_percentage_history', \n",
    "                      'academics__program_percentage_social_science', 'student__demographics_veteran']\n",
    "    for col in log_percentage:\n",
    "        df['custom__log_{}'.format(col)] = df[col].map(lambda x: np.log(x*100+1))\n",
    "\n",
    "    df = df.drop(log_cols, axis=1)\n",
    "    df = df.drop(log_percentage, axis=1)\n",
    "\n",
    "    df['custom__academics_program_percentage_health'] = df['academics__program_percentage_health'].replace(1, np.nan)\n",
    "    \n",
    "    df['custom__sat_0'] = df['admissions__sat_scores_average_by_ope_id'].fillna(0)\n",
    "    df['custom__act_0'] = df['admissions__act_scores_midpoint_cumulative'].fillna(0)\n",
    "\n",
    "    df = df.drop(list(df.filter(like='scores')), axis=1)\n",
    "    #df.loc[:,list(df.filter(like='scores'))] = df.filter(like='scores').fillna(0)\n",
    "    df = df.drop(list(df.filter(like='net_price_private')), axis=1)\n",
    "\n",
    "    return df"
   ]
  },
  {
   "cell_type": "code",
   "execution_count": 5,
   "metadata": {
    "collapsed": true
   },
   "outputs": [],
   "source": [
    "def combine(df_num, df_cat):\n",
    "    return pd.merge(df_num, df_cat, left_index=True, right_index=True)"
   ]
  },
  {
   "cell_type": "code",
   "execution_count": 6,
   "metadata": {
    "collapsed": false
   },
   "outputs": [],
   "source": [
    "def impute(train, test):\n",
    "    avg = train.mean()\n",
    "    train = train.fillna(avg)\n",
    "    test = test.fillna(avg)\n",
    "    return [train, test]"
   ]
  },
  {
   "cell_type": "code",
   "execution_count": 7,
   "metadata": {
    "collapsed": true
   },
   "outputs": [],
   "source": [
    "def cluster(train, test):\n",
    "    aid_clusters = ['aid__cumulative_debt_75th_percentile', \n",
    "                'aid__cumulative_debt_90th_percentile',\n",
    "                'aid__median_debt_completers_monthly_payments', \n",
    "                'aid__median_debt_completers_overall']\n",
    "    cost_clusters = ['cost__attendance_academic_year',\n",
    "                'cost__tuition_in_state']\n",
    "\n",
    "    kmeans = KMeans(n_clusters=2, n_jobs=-1)\n",
    "    \n",
    "    kmeans.fit(train.loc[:, aid_clusters])\n",
    "    train['custom__aid_clusters'] = kmeans.labels_ \n",
    "    test['custom__aid_clusters'] = kmeans.predict(test.loc[:,aid_clusters])\n",
    "\n",
    "    kmeans.fit(train.loc[:, cost_clusters])\n",
    "    train['custom__cost_clusters'] = kmeans.labels_ \n",
    "    test['custom__cost_clusters'] = kmeans.predict(test.loc[:,cost_clusters])\n",
    "    \n",
    "    return [train, test]"
   ]
  },
  {
   "cell_type": "code",
   "execution_count": 8,
   "metadata": {
    "collapsed": false
   },
   "outputs": [],
   "source": [
    "def transformer(train, test):\n",
    "    def transform(df):\n",
    "        df_num = split(df, numerical_features)\n",
    "        df_cat = split(df, categorical_features)\n",
    "        df_num = custom_num(df_num)\n",
    "        df_cat = custom_cat(df_cat)\n",
    "        df = combine(df_num, df_cat)\n",
    "        return df\n",
    "    train = transform(train)\n",
    "    test = transform(test)\n",
    "    train, test = impute(train, test)\n",
    "    train, test = cluster(train, test)\n",
    "    return [train, test]"
   ]
  },
  {
   "cell_type": "code",
   "execution_count": 9,
   "metadata": {
    "collapsed": true
   },
   "outputs": [],
   "source": [
    "x = pd.read_csv('train_values.csv', index_col='row_id')\n",
    "test = pd.read_csv('test_values.csv', index_col='row_id')\n",
    "y = pd.read_csv('train_labels.csv', index_col='row_id')"
   ]
  },
  {
   "cell_type": "code",
   "execution_count": 10,
   "metadata": {
    "collapsed": true
   },
   "outputs": [],
   "source": [
    "numerical_features = [i for i in x.columns if len(x[i].unique()) > 4 and x[i].dtype != 'O']\n",
    "categorical_features = [i for i in x.columns if len(x[i].unique()) < 5 or x[i].dtype == 'O']"
   ]
  },
  {
   "cell_type": "code",
   "execution_count": 26,
   "metadata": {
    "collapsed": false,
    "scrolled": false
   },
   "outputs": [
    {
     "name": "stdout",
     "output_type": "stream",
     "text": [
      "Training Set Score: 1.000\n",
      "Test Set Score: 0.895\n",
      "RMSE: 6.807678249801247\n"
     ]
    }
   ],
   "source": [
    "X_train, X_test, y_train, y_test = train_test_split(x, y['repayment_rate']) \n",
    "X_train, X_test = transformer(X_train, X_test)\n",
    "\n",
    "xgb = XGBRegressor(n_estimators=1000, max_depth=8, nthread=4)\n",
    "xgb.fit(X_train, y_train)\n",
    "print('Training Set Score: {:.3f}'.format(xgb.score(X_train, y_train)))\n",
    "print('Test Set Score: {:.3f}'.format(xgb.score(X_test, y_test)))\n",
    "print('RMSE: {}'.format(np.sqrt(mean_squared_error(y_test, xgb.predict(X_test)))))"
   ]
  },
  {
   "cell_type": "code",
   "execution_count": 12,
   "metadata": {
    "collapsed": false,
    "scrolled": false
   },
   "outputs": [
    {
     "ename": "SyntaxError",
     "evalue": "EOF while scanning triple-quoted string literal (<ipython-input-12-59b7ecb1ee3e>, line 10)",
     "output_type": "error",
     "traceback": [
      "\u001b[0;36m  File \u001b[0;32m\"<ipython-input-12-59b7ecb1ee3e>\"\u001b[0;36m, line \u001b[0;32m10\u001b[0m\n\u001b[0;31m    print('RMSE: {}'.format(np.sqrt(mean_squared_error(y_test, grid.predict(X_test)))))\u001b[0m\n\u001b[0m                                                                                       \n^\u001b[0m\n\u001b[0;31mSyntaxError\u001b[0m\u001b[0;31m:\u001b[0m EOF while scanning triple-quoted string literal\n"
     ]
    }
   ],
   "source": [
    "xgb = XGBRegressor(n_estimators=500, nthread=4)\n",
    "param_grid = {'max_depth':[5, 8, 10, 13, 15]}\n",
    "grid = GridSearchCV(xgb, param_grid=param_grid, cv=3, n_jobs=-1, verbose=3)\n",
    "grid.fit(X_train, y_train)\n",
    "print('Best CV Accuracy: {:.3f}'.format(grid.best_score_))\n",
    "print('Training Set Score: {:.3f}'.format(grid.score(X_train, y_train)))\n",
    "print('Test Set Score: {:.3f}'.format(grid.score(X_test, y_test)))\n",
    "print('Best_Parameters: {}'.format(grid.best_params_))\n",
    "print('RMSE: {}'.format(np.sqrt(mean_squared_error(y_test, grid.predict(X_test)))))"
   ]
  },
  {
   "cell_type": "code",
   "execution_count": null,
   "metadata": {
    "collapsed": false
   },
   "outputs": [],
   "source": [
    "'''\n",
    "X_train, X_test = transformer(x, test)\n",
    "xgb.fit(X_train, y)\n",
    "test['repayment_rate'] = xgb.predict(X_test)\n",
    "test[['repayment_rate']].to_csv('results4.csv')\n",
    "'''"
   ]
  }
 ],
 "metadata": {
  "kernelspec": {
   "display_name": "Python 3",
   "language": "python",
   "name": "python3"
  },
  "language_info": {
   "codemirror_mode": {
    "name": "ipython",
    "version": 3
   },
   "file_extension": ".py",
   "mimetype": "text/x-python",
   "name": "python",
   "nbconvert_exporter": "python",
   "pygments_lexer": "ipython3",
   "version": "3.6.0"
  }
 },
 "nbformat": 4,
 "nbformat_minor": 2
}

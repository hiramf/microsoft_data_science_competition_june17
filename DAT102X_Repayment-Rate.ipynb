{
 "cells": [
  {
   "cell_type": "code",
   "execution_count": 4,
   "metadata": {
    "collapsed": true
   },
   "outputs": [],
   "source": [
    "import pandas as pd\n",
    "import numpy as np\n",
    "import matplotlib.pyplot as plt\n",
    "import seaborn as sns\n",
    "from IPython.display import display\n",
    "%matplotlib inline\n",
    "plt.style.use('ggplot')"
   ]
  },
  {
   "cell_type": "markdown",
   "metadata": {},
   "source": [
    "list of columns to drop:"
   ]
  },
  {
   "cell_type": "code",
   "execution_count": 18,
   "metadata": {
    "collapsed": false
   },
   "outputs": [],
   "source": [
    "x = pd.read_csv('train_values.csv', index_col='row_id')\n",
    "y = pd.read_csv('train_labels.csv', index_col='row_id')\n",
    "filtered = pd.read_csv('repayment_rates_filtered.csv').transpose()"
   ]
  },
  {
   "cell_type": "code",
   "execution_count": 36,
   "metadata": {
    "collapsed": false
   },
   "outputs": [],
   "source": [
    "features = list(filtered.iloc[1:200,0].index)"
   ]
  },
  {
   "cell_type": "code",
   "execution_count": 37,
   "metadata": {
    "collapsed": false
   },
   "outputs": [
    {
     "data": {
      "text/plain": [
       "['student__share_lowincome_0_30000',\n",
       " 'student__demographics_avg_family_income',\n",
       " 'student__demographics_median_family_income',\n",
       " 'student__avg_dependent_income_2014dollars',\n",
       " 'student__students_with_pell_grant',\n",
       " 'student__share_highincome_75001_110000',\n",
       " 'student__share_highincome_110001plus',\n",
       " 'student__share_middleincome_48001_75000',\n",
       " 'student__share_firstgeneration_parents_somecollege',\n",
       " 'student__share_dependent_lowincome_0_300000',\n",
       " 'student__demographics_first_generation',\n",
       " 'aid__pell_grant_rate',\n",
       " 'student__demographics_dependent',\n",
       " 'school__ownership-Private for-profit',\n",
       " 'student__fafsa_sent_5plus_college_allyrs',\n",
       " 'student__share_firstgeneration_parents_highschool',\n",
       " 'student__fafsa_sent_4_college_allyrs',\n",
       " 'student__demographics_age_entry',\n",
       " 'student__fafsa_sent_3_college_allyrs',\n",
       " \"school__degrees_awarded_predominant-Predominantly bachelor's-degree granting\",\n",
       " 'academics__program_bachelors_biological',\n",
       " 'academics__program_bachelors_mathematics',\n",
       " 'academics__program_bachelors_physical_science',\n",
       " 'academics__program_bachelors_english',\n",
       " 'academics__program_bachelors_language',\n",
       " 'academics__program_bachelors_history',\n",
       " 'cost__tuition_out_of_state',\n",
       " 'custom__academics_num_bach',\n",
       " 'academics__program_bachelors_philosophy_religious',\n",
       " 'school__faculty_salary',\n",
       " 'custom__cost_clusters',\n",
       " 'academics__program_bachelors_psychology',\n",
       " 'student__demographics_race_ethnicity_black',\n",
       " 'academics__program_bachelors_social_science',\n",
       " 'student__share_independent_lowincome_0_30000',\n",
       " 'student__share_dependent_middleincome_48001_75000',\n",
       " 'school__ownership-Private nonprofit',\n",
       " 'completion__completion_rate_4yr_150nt',\n",
       " 'academics__program_bachelors_visual_performing',\n",
       " 'custom__school_degrees_awarded_graduate',\n",
       " 'aid__median_debt_pell_grant',\n",
       " 'student__fafsa_sent_2_college_allyrs',\n",
       " 'student__demographics_race_ethnicity_white',\n",
       " 'academics__program_bachelors_multidiscipline',\n",
       " 'academics__program_bachelors_ethnic_cultural_gender',\n",
       " 'aid__loan_principal',\n",
       " 'completion__completion_rate_4yr_100nt',\n",
       " 'student__avg_independent_income_2014dollars',\n",
       " 'student__demographics_avg_family_income_independents',\n",
       " 'academics__program_bachelors_communication',\n",
       " 'aid__median_debt_non_first_generation_students',\n",
       " 'student__share_independent_middleincome_48001_75000',\n",
       " 'aid__median_debt_male_students',\n",
       " 'aid__median_debt_first_generation_students',\n",
       " 'aid__median_debt_female_students',\n",
       " 'academics__program_bachelors_education',\n",
       " 'aid__median_debt_no_pell_grant',\n",
       " 'aid__median_debt_income_0_30000',\n",
       " 'academics__program_percentage_mathematics',\n",
       " 'academics__program_bachelors_resources',\n",
       " 'aid__median_debt_dependent_students',\n",
       " 'completion__completion_rate_4yr_150_white',\n",
       " 'academics__program_bachelors_humanities',\n",
       " 'academics__program_percentage_biological',\n",
       " 'cost__title_iv_private_by_income_level_110001_plus',\n",
       " 'cost__tuition_in_state',\n",
       " 'student__share_dependent_highincome_75001_110000',\n",
       " 'aid__cumulative_debt_25th_percentile',\n",
       " 'school__main_campus',\n",
       " 'school__instructional_expenditure_per_fte',\n",
       " 'student__share_independent_middleincome_30001_48000',\n",
       " 'student__share_dependent_highincome_110001plus',\n",
       " 'admissions__act_scores_25th_percentile_math',\n",
       " 'academics__program_bachelors_engineering',\n",
       " 'cost__attendance_academic_year',\n",
       " 'custom__carnegie_undergrad_high',\n",
       " 'school__institutional_characteristics_level-4-year',\n",
       " 'aid__cumulative_debt_10th_percentile',\n",
       " 'student__demographics_race_ethnicity_non_resident_alien',\n",
       " 'cost__title_iv_private_by_income_level_48001_75000',\n",
       " 'academics__program_bachelors_parks_recreation_fitness',\n",
       " 'aid__median_debt_income_30001_75000',\n",
       " 'admissions__sat_scores_25th_percentile_math',\n",
       " 'completion__completion_rate_4yr_150nt_pooled',\n",
       " 'custom__school_carnegie_size_setting_low',\n",
       " 'academics__program_percentage_language',\n",
       " 'admissions__sat_scores_average_overall',\n",
       " 'school__ft_faculty_rate',\n",
       " 'aid__median_debt_income_greater_than_75000',\n",
       " 'admissions__sat_scores_average_by_ope_id',\n",
       " 'custom__school_state_high',\n",
       " 'aid__median_debt_independent_students',\n",
       " 'custom__school_state_low',\n",
       " 'custom__carnegie_undergrad_low',\n",
       " 'completion__completion_rate_4yr_150_black',\n",
       " 'admissions__act_scores_75th_percentile_cumulative',\n",
       " 'admissions__sat_scores_midpoint_math',\n",
       " 'custom__school_carnegie_size_setting_high',\n",
       " 'student__retention_rate_four_year_full_time',\n",
       " 'admissions__act_scores_midpoint_english',\n",
       " 'admissions__act_scores_midpoint_math',\n",
       " 'school__degrees_awarded_predominant-Predominantly certificate-degree granting',\n",
       " 'aid__cumulative_debt_75th_percentile',\n",
       " 'admissions__sat_scores_midpoint_critical_reading',\n",
       " 'custom__academics_program_bachelors_business_0',\n",
       " 'custom__aid_clusters',\n",
       " 'admissions__sat_scores_25th_percentile_critical_reading',\n",
       " 'admissions__sat_scores_75th_percentile_critical_reading',\n",
       " 'admissions__act_scores_75th_percentile_english',\n",
       " 'cost__title_iv_private_by_income_level_75001_110000',\n",
       " 'admissions__act_scores_25th_percentile_cumulative',\n",
       " 'student__demographics_married',\n",
       " 'student__share_independent_highincome_75001_110000',\n",
       " 'academics__program_bachelors_public_administration_social_service',\n",
       " 'student__share_middleincome_30001_48000',\n",
       " 'academics__program_bachelors_health',\n",
       " 'admissions__sat_scores_75th_percentile_math',\n",
       " 'admissions__act_scores_midpoint_cumulative',\n",
       " 'aid__median_debt_noncompleters',\n",
       " 'custom__schools_region_high',\n",
       " 'academics__program_bachelors_computer',\n",
       " 'admissions__act_scores_75th_percentile_math',\n",
       " 'custom__school_region_low',\n",
       " 'student__demographics_veteran',\n",
       " 'academics__program_percentage_psychology',\n",
       " 'admissions__act_scores_25th_percentile_english',\n",
       " 'completion__completion_rate_4yr_150_hispanic',\n",
       " 'academics__program_percentage_education',\n",
       " 'student__share_first_time_full_time',\n",
       " 'admissions__sat_scores_midpoint_writing',\n",
       " 'admissions__sat_scores_25th_percentile_writing',\n",
       " 'school__branches',\n",
       " 'completion__completion_rate_4yr_150_race_unknown',\n",
       " 'academics__program_bachelors_business_marketing',\n",
       " 'student__share_independent_highincome_110001plus',\n",
       " 'admissions__sat_scores_75th_percentile_writing',\n",
       " 'academics__program_percentage_physical_science',\n",
       " 'cost__net_price_private_by_income_level_110001_plus',\n",
       " 'completion__completion_cohort_4yr_100nt',\n",
       " 'academics__program_certificate_lt_2_yr_health',\n",
       " 'academics__program_bachelors_architecture',\n",
       " 'student__demographics_race_ethnicity_asian',\n",
       " 'cost__title_iv_public_by_income_level_75001_110000',\n",
       " 'cost__net_price_public_by_income_level_110001_plus',\n",
       " 'cost__avg_net_price_public',\n",
       " 'academics__program_bachelors_theology_religious_vocation',\n",
       " 'cost__net_price_public_by_income_level_75000_plus',\n",
       " 'school__institutional_characteristics_level-Less-than-2-year',\n",
       " 'completion__completion_rate_4yr_150_aian',\n",
       " 'custom__religious_low',\n",
       " 'cost__net_price_public_by_income_level_75001_110000',\n",
       " 'custom__religious_high',\n",
       " 'student__demographics_female_share',\n",
       " 'academics__program_bachelors_family_consumer_science',\n",
       " 'admissions__admission_rate_by_ope_id',\n",
       " 'school__carnegie_basic-Baccalaureate Colleges: Arts & Sciences Focus',\n",
       " 'completion__transfer_rate_4yr_full_time',\n",
       " 'school__carnegie_basic-Not applicable',\n",
       " 'academics__program_certificate_lt_2_yr_personal_culinary',\n",
       " 'aid__cumulative_debt_90th_percentile',\n",
       " 'school__institutional_characteristics_level-2-year',\n",
       " 'cost__title_iv_public_by_income_level_48001_75000',\n",
       " 'school__tuition_revenue_per_fte',\n",
       " 'student__size',\n",
       " 'academics__program_percentage_ethnic_cultural_gender',\n",
       " 'completion__completion_rate_4yr_150_asian',\n",
       " 'student__family_income_independent_students',\n",
       " 'school__ownership-Public',\n",
       " 'cost__avg_net_price_private',\n",
       " 'academics__program_percentage_resources',\n",
       " 'aid__median_debt_number_income_0_30000',\n",
       " 'school__religious_affiliation-wxa',\n",
       " 'aid__median_debt_completers_overall',\n",
       " 'aid__median_debt_completers_monthly_payments',\n",
       " 'cost__net_price_public_by_income_level_48001_75000',\n",
       " 'cost__net_price_private_by_income_level_75000_plus',\n",
       " 'admissions__admission_rate_overall',\n",
       " 'academics__program_percentage_health',\n",
       " 'student__demographics_men',\n",
       " 'student__FAFSA_applications',\n",
       " 'student__family_income_overall',\n",
       " 'student__valid_dependency_status',\n",
       " 'student__demographics_women',\n",
       " 'cost__net_price_public_by_income_level_30001_75000',\n",
       " 'aid__median_debt_number_pell_grant',\n",
       " 'academics__program_assoc_computer',\n",
       " 'student__demographics_race_ethnicity_hispanic',\n",
       " 'aid__federal_loan_rate',\n",
       " 'aid__median_debt_number_first_generation_students',\n",
       " 'student__parents_education_level',\n",
       " 'academics__program_percentage_communication',\n",
       " 'academics__program_bachelors_agriculture',\n",
       " \"school__degrees_awarded_predominant-Predominantly associate's-degree granting\",\n",
       " 'academics__program_assoc_security_law_enforcement',\n",
       " 'aid__median_debt_number_independent_students',\n",
       " 'aid__median_debt_number_male_students',\n",
       " 'academics__program_percentage_personal_culinary',\n",
       " 'aid__median_debt_number_noncompleters',\n",
       " 'aid__cumulative_debt_number']"
      ]
     },
     "execution_count": 37,
     "metadata": {},
     "output_type": "execute_result"
    }
   ],
   "source": [
    "features"
   ]
  },
  {
   "cell_type": "markdown",
   "metadata": {},
   "source": [
    "feature engineering:"
   ]
  },
  {
   "cell_type": "code",
   "execution_count": null,
   "metadata": {
    "collapsed": true
   },
   "outputs": [],
   "source": [
    "def num_bach(x):\n",
    "    return x.filter(like='_bach').replace(0,np.nan).sum(axis=1)\n",
    "x['num_bach'] = num_bach(x)"
   ]
  },
  {
   "cell_type": "code",
   "execution_count": null,
   "metadata": {
    "collapsed": false
   },
   "outputs": [],
   "source": [
    "drop_cols = []\n",
    "drop_cols.extend(list(x.filter(like='academics__program_assoc')))\n",
    "drop_cols.extend(list(x.filter(like='academics__program_bach')))\n",
    "drop_cols.extend(list(x.filter(like='academics__program_cert')))\n",
    "drop_cols.extend(list(x.filter(like='completion__')))\n",
    "drop_cols.extend(list(x.filter(like='_program_percentage_')))\n",
    "drop_cols.extend(list(x.filter(like='cost__')))\n",
    "drop_cols.extend(list(x.filter(like='_debt_number_')))\n",
    "drop_cols.extend(list(x.filter(like='cumulative_debt_')))\n",
    "drop_cols.extend(list(x.filter(like='median_debt_completers_')))\n",
    "drop_cols.extend(list(x.filter(like='student__')))\n",
    "drop_cols.extend(['report_year'])\n",
    "\n",
    "linear = []\n",
    "temp = list(x.filter(like='_program_percentage_'))\n",
    "linear.extend([temp[i] for i in ( 6, 9, 10, 11, 14, 15, 16, 33, 34)])\n",
    "\n",
    "temp = list(x.filter(like='completion__'))\n",
    "linear.extend([temp[i] for i in (6, 9, 10, 11, 13, 14, 15, 16, 17)])\n",
    "\n",
    "temp = list(x.filter(like='cost__'))\n",
    "linear.extend([temp[i] for i in ( 0, 3, 14, 18, 19, 25, 28, 30, 31, 32, 33)])\n",
    "\n",
    "temp = list(x.filter(like='student__'))\n",
    "linear.extend([temp[i] for i in (1, 2, 3, 4, 5, 6, 8, 9, 10, 14, 17, 23, 24, 25, 26, 31, 32, 33, 36, 37, 38, 40, 41, 42, \n",
    "                                 44, 45, 46, 47, 48, 49, 50, 51, 52, 54, 56)])\n",
    "\n",
    "linear.extend(['school_faculty_salary', 'school_ft_faculty_rate', ])\n",
    "\n",
    "drop_cols = [x for x in drop_cols if x not in linear]"
   ]
  },
  {
   "cell_type": "code",
   "execution_count": null,
   "metadata": {
    "collapsed": false
   },
   "outputs": [],
   "source": [
    "def replace_01(x, inplace=True):\n",
    "    x['academics__program_percentage_computer'].replace([1], 0.1, inplace=inplace)\n",
    "    x['academics__program_percentage_health'].replace([0,1], np.nan, inplace=inplace)\n",
    "    x['academics__program_percentage_humanities'].replace([0,1], np.nan, inplace=inplace)\n",
    "    x['completion__completion_rate_4yr_150_asian'].replace([0,1], np.nan, inplace=inplace)\n",
    "    x['completion__completion_rate_4yr_150_black'].replace([0,1], np.nan, inplace=inplace)\n",
    "    x['completion__completion_rate_4yr_150_hispanic'].replace([0,1], np.nan, inplace=inplace)\n",
    "    x['completion__completion_rate_4yr_150_nonresident_alien'].replace([0,1], np.nan, inplace=inplace)\n",
    "    x['completion__completion_rate_4yr_150_race_unknown'].replace([0,1], np.nan, inplace=inplace)\n",
    "    x['completion__completion_rate_4yr_150_white'].replace([0,1], np.nan, inplace=inplace)\n",
    "    x['completion__completion_rate_4yr_100nt'].replace([1], 0.2, inplace=inplace)\n",
    "    x['completion__completion_rate_4yr_150nt'].replace([1], 0.5, inplace=inplace)\n",
    "    x['school__ft_faculty_rate'].replace([1], np.nan, inplace=inplace)\n",
    "    x['student__part_time_share'].replace([1],0.2, inplace=inplace)    \n",
    "    x['student__retention_rate_four_year_full_time'].replace([0,1],[0.3, np.nan], inplace=inplace)    \n",
    "    x['student__retention_rate_four_year_part_time'].replace([0,1], np.nan, inplace=inplace)\n",
    "    x['student__share_first_time_full_time'].replace([1],[np.nan], inplace=inplace)\n",
    "    \n",
    "    \n",
    "replace_01(x)"
   ]
  },
  {
   "cell_type": "code",
   "execution_count": null,
   "metadata": {
    "collapsed": false
   },
   "outputs": [],
   "source": [
    "log_columns = ['academics__program_percentage_engineering',\n",
    "          'academics__program_percentage_english',\n",
    "          'academics__program_percentage_history',\n",
    "          'academics__program_percentage_social_science',\n",
    "          'cost__title_iv_private_by_income_level_75001_110000',\n",
    "          'cost__title_iv_public_by_income_level_110001_plus']\n",
    "\n",
    "def get_log(x, log_columns=log_columns, inplace=True):\n",
    "    for col in log_columns:\n",
    "        x[col] = x[col].replace(0,np.nan).apply(np.log)\n",
    "\n",
    "get_log(x)"
   ]
  },
  {
   "cell_type": "code",
   "execution_count": null,
   "metadata": {
    "collapsed": false
   },
   "outputs": [],
   "source": [
    "school_categoricals = ['school__carnegie_basic',\n",
    "               'school__carnegie_size_setting',\n",
    "               'school__carnegie_undergrad',\n",
    "               'school__institutional_characteristics_level',\n",
    "               'school__locale',\n",
    "               'school__main_campus',\n",
    "               'school__men_only',\n",
    "               'school__minority_serving_aanipi',\n",
    "               'school__minority_serving_hispanic',\n",
    "               'school__minority_serving_historically_black',\n",
    "               'school__minority_serving_nant',\n",
    "               'school__minority_serving_predominantly_black',\n",
    "               'school__minority_serving_tribal',\n",
    "               'school__online_only',\n",
    "               'school__religious_affiliation',\n",
    "               'school__state',\n",
    "               'school__ownership',\n",
    "               'school__degrees_awarded_highest',\n",
    "               'school__degrees_awarded_predominant',\n",
    "               'school__region_id',\n",
    "               'school__women_only',\n",
    "               'school__minority_serving_annh',\n",
    "               ]\n",
    "for cat in school_categoricals:\n",
    "    x[cat] = x[cat].astype('category')"
   ]
  },
  {
   "cell_type": "code",
   "execution_count": null,
   "metadata": {
    "collapsed": false,
    "scrolled": true
   },
   "outputs": [],
   "source": [
    "x.drop(drop_cols, axis=1, inplace=True)"
   ]
  },
  {
   "cell_type": "code",
   "execution_count": null,
   "metadata": {
    "collapsed": false,
    "scrolled": true
   },
   "outputs": [],
   "source": [
    "x.columns[x.dtypes == 'category']"
   ]
  },
  {
   "cell_type": "code",
   "execution_count": null,
   "metadata": {
    "collapsed": true
   },
   "outputs": [],
   "source": [
    "cat_cols = ['school__carnegie_basic', 'school__carnegie_size_setting',\n",
    "       'school__carnegie_undergrad', 'school__degrees_awarded_highest',\n",
    "       'school__degrees_awarded_predominant',\n",
    "       'school__institutional_characteristics_level', 'school__locale',\n",
    "       'school__main_campus', 'school__men_only',\n",
    "       'school__minority_serving_aanipi', 'school__minority_serving_annh',\n",
    "       'school__minority_serving_hispanic',\n",
    "       'school__minority_serving_historically_black',\n",
    "       'school__minority_serving_nant',\n",
    "       'school__minority_serving_predominantly_black',\n",
    "       'school__minority_serving_tribal', 'school__online_only',\n",
    "       'school__ownership', 'school__region_id',\n",
    "       'school__religious_affiliation', 'school__state', 'school__women_only']"
   ]
  },
  {
   "cell_type": "code",
   "execution_count": null,
   "metadata": {
    "collapsed": false
   },
   "outputs": [],
   "source": [
    "from sklearn.pipeline import make_pipeline, Pipeline\n",
    "from sklearn.preprocessing import RobustScaler, StandardScaler, MinMaxScaler, Imputer, LabelEncoder, OneHotEncoder\n",
    "from sklearn.model_selection import train_test_split, GridSearchCV\n",
    "from sklearn.ensemble import RandomForestRegressor, GradientBoostingRegressor\n",
    "from sklearn.linear_model import LinearRegression, Ridge, Lasso\n",
    "from sklearn.metrics import mean_squared_error\n",
    "\n",
    "              "
   ]
  },
  {
   "cell_type": "markdown",
   "metadata": {},
   "source": [
    "## Random Forest Regressor: Categories"
   ]
  },
  {
   "cell_type": "code",
   "execution_count": null,
   "metadata": {
    "collapsed": true
   },
   "outputs": [],
   "source": [
    "x_cat = pd.get_dummies(x, sparse=True)\n",
    "x_num = x.drop(cat_cols, axis=1)"
   ]
  },
  {
   "cell_type": "code",
   "execution_count": null,
   "metadata": {
    "collapsed": false
   },
   "outputs": [],
   "source": [
    "data = x_cat\n",
    "\n",
    "X_train, X_test, y_train, y_test = train_test_split(data, y['repayment_rate'], random_state = 42)  \n",
    "\n",
    "pipe_forest = make_pipeline(Imputer(strategy='median'), RandomForestRegressor(n_estimators=20, \n",
    "                                                                              max_features=200, \n",
    "                                                                              n_jobs=-1,\n",
    "                                                                              random_state=42,\n",
    "                                                                              verbose=False))\n",
    "pipe_forest.fit(X_train, y_train)\n",
    "\n",
    "param_grid = {}\n",
    "\n",
    "grid = GridSearchCV(pipe_forest, param_grid=param_grid, cv=3, n_jobs=-1)\n",
    "grid.fit(X_train, y_train)\n",
    "\n",
    "print('Best CV Accuracy: {:.3f}'.format(grid.best_score_))\n",
    "print('Test Set Score: {:.3f}'.format(grid.score(X_test, y_test)))\n",
    "print('Best_Parameters: {}'.format(grid.best_params_))\n",
    "print('RMSE: {}'.format(mean_squared_error(y_test, grid.predict(X_test))))"
   ]
  },
  {
   "cell_type": "markdown",
   "metadata": {},
   "source": [
    "## Random Forest Regressor: no categories"
   ]
  },
  {
   "cell_type": "code",
   "execution_count": null,
   "metadata": {
    "collapsed": false,
    "scrolled": false
   },
   "outputs": [],
   "source": [
    "data = x_num\n",
    "\n",
    "X_train, X_test, y_train, y_test = train_test_split(data, y['repayment_rate'], random_state = 42)\n",
    "\n",
    "pipe_forest = make_pipeline(Imputer(strategy='median'), RandomForestRegressor(n_estimators=20, \n",
    "                                                                              max_features=50, \n",
    "                                                                              n_jobs=-1,\n",
    "                                                                              random_state=42,\n",
    "                                                                              verbose=False))\n",
    "pipe_forest.fit(X_train, y_train)\n",
    "\n",
    "param_grid = {}\n",
    "\n",
    "grid = GridSearchCV(pipe_forest, param_grid=param_grid, cv=3, n_jobs=-1)\n",
    "grid.fit(X_train, y_train)\n",
    "\n",
    "print('Best CV Accuracy: {:.3f}'.format(grid.best_score_))\n",
    "print('Test Set Score: {:.3f}'.format(grid.score(X_test, y_test)))\n",
    "print('Best_Parameters: {}'.format(grid.best_params_))\n",
    "print('RMSE: {}'.format(mean_squared_error(y_test, grid.predict(X_test))))"
   ]
  },
  {
   "cell_type": "markdown",
   "metadata": {},
   "source": [
    "## Regression: Categories"
   ]
  },
  {
   "cell_type": "code",
   "execution_count": null,
   "metadata": {
    "collapsed": false,
    "scrolled": true
   },
   "outputs": [],
   "source": [
    "data = x_cat\n",
    "\n",
    "X_train, X_test, y_train, y_test = train_test_split(data, y['repayment_rate'], random_state = 42) \n",
    "pipe = Pipeline([('preprocessing',Imputer(strategy='median')), ('regressor', LinearRegression())])\n",
    "                      \n",
    "pipe.fit(X_train, y_train)\n",
    "\n",
    "param_grid = [\n",
    "    {'regressor': [LinearRegression()]},\n",
    "    {'regressor': [Lasso()]},\n",
    "    {'regressor': [Ridge()]},\n",
    "]\n",
    "\n",
    "grid = GridSearchCV(pipe, param_grid=param_grid, cv=3, n_jobs=-1)\n",
    "grid.fit(X_train, y_train)\n",
    "\n",
    "print('Best CV Accuracy: {:.3f}'.format(grid.best_score_))\n",
    "print('Test Set Score: {:.3f}'.format(grid.score(X_test, y_test)))\n",
    "print('Best_Parameters: {}'.format(grid.best_params_))\n",
    "print('RMSE: {}'.format(mean_squared_error(y_test, grid.predict(X_test))))"
   ]
  },
  {
   "cell_type": "markdown",
   "metadata": {},
   "source": [
    "## Regression: No Categories"
   ]
  },
  {
   "cell_type": "code",
   "execution_count": null,
   "metadata": {
    "collapsed": false
   },
   "outputs": [],
   "source": [
    "data = x_num\n",
    "\n",
    "X_train, X_test, y_train, y_test = train_test_split(data, y['repayment_rate'], random_state = 42) \n",
    "pipe = Pipeline([('preprocessing',Imputer(strategy='median')), ('regressor', LinearRegression())])\n",
    "                      \n",
    "pipe.fit(X_train, y_train)\n",
    "\n",
    "param_grid = [\n",
    "    {'regressor': [LinearRegression()]},\n",
    "    {'regressor': [Lasso()]},\n",
    "    {'regressor': [Ridge()]},\n",
    "]\n",
    "\n",
    "grid = GridSearchCV(pipe, param_grid=param_grid, cv=3, n_jobs=-1)\n",
    "grid.fit(X_train, y_train)\n",
    "\n",
    "print('Best CV Accuracy: {:.3f}'.format(grid.best_score_))\n",
    "print('Test Set Score: {:.3f}'.format(grid.score(X_test, y_test)))\n",
    "print('Best_Parameters: {}'.format(grid.best_params_))\n",
    "print('RMSE: {}'.format(mean_squared_error(y_test, grid.predict(X_test))))"
   ]
  },
  {
   "cell_type": "markdown",
   "metadata": {},
   "source": [
    "## KNeighbors Regression: Categories"
   ]
  },
  {
   "cell_type": "code",
   "execution_count": null,
   "metadata": {
    "collapsed": false,
    "scrolled": true
   },
   "outputs": [],
   "source": [
    "from sklearn.neighbors import KNeighborsRegressor\n",
    "\n",
    "data = x_cat\n",
    "\n",
    "X_train, X_test, y_train, y_test = train_test_split(data, y['repayment_rate'], random_state = 42)\n",
    "\n",
    "pipe_forest = make_pipeline(Imputer(strategy='median'), KNeighborsRegressor(n_jobs=-1))\n",
    "pipe_forest.fit(X_train, y_train)\n",
    "\n",
    "param_grid = {'kneighborsregressor__n_neighbors':[5, 10, 15, 20]}\n",
    "\n",
    "grid = GridSearchCV(pipe_forest, param_grid=param_grid, cv=3, n_jobs=-1)\n",
    "grid.fit(X_train, y_train)\n",
    "\n",
    "print('Best CV Accuracy: {:.3f}'.format(grid.best_score_))\n",
    "print('Test Set Score: {:.3f}'.format(grid.score(X_test, y_test)))\n",
    "print('Best_Parameters: {}'.format(grid.best_params_))\n",
    "print('RMSE: {}'.format(mean_squared_error(y_test, grid.predict(X_test))))"
   ]
  },
  {
   "cell_type": "markdown",
   "metadata": {},
   "source": [
    "## KNeighbors Regression: No categories"
   ]
  },
  {
   "cell_type": "code",
   "execution_count": null,
   "metadata": {
    "collapsed": false
   },
   "outputs": [],
   "source": [
    "from sklearn.neighbors import KNeighborsRegressor\n",
    "\n",
    "data = x_num\n",
    "\n",
    "X_train, X_test, y_train, y_test = train_test_split(data, y['repayment_rate'], random_state = 42)\n",
    "\n",
    "pipe_forest = make_pipeline(Imputer(strategy='median'), KNeighborsRegressor(n_jobs=-1))\n",
    "pipe_forest.fit(X_train, y_train)\n",
    "\n",
    "param_grid = {'kneighborsregressor__n_neighbors':[5, 10, 15, 20]}\n",
    "\n",
    "grid = GridSearchCV(pipe_forest, param_grid=param_grid, cv=3, n_jobs=-1)\n",
    "grid.fit(X_train, y_train)\n",
    "\n",
    "print('Best CV Accuracy: {:.3f}'.format(grid.best_score_))\n",
    "print('Test Set Score: {:.3f}'.format(grid.score(X_test, y_test)))\n",
    "print('Best_Parameters: {}'.format(grid.best_params_))\n",
    "print('RMSE: {}'.format(mean_squared_error(y_test, grid.predict(X_test))))"
   ]
  },
  {
   "cell_type": "markdown",
   "metadata": {},
   "source": [
    "## In every case, categories perform better than with no categories. \n",
    "## RandomForest performs best."
   ]
  },
  {
   "cell_type": "markdown",
   "metadata": {},
   "source": [
    "### Best Performing Model: RandomForestRegressor with Categoricals"
   ]
  },
  {
   "cell_type": "code",
   "execution_count": null,
   "metadata": {
    "collapsed": false,
    "scrolled": true
   },
   "outputs": [],
   "source": [
    "x.head()"
   ]
  },
  {
   "cell_type": "code",
   "execution_count": null,
   "metadata": {
    "collapsed": false
   },
   "outputs": [],
   "source": [
    "data = x_cat\n",
    "\n",
    "X_train, X_test, y_train, y_test = train_test_split(data, y['repayment_rate'], random_state = 42)  \n",
    "\n",
    "pipe_forest = make_pipeline(Imputer(), RandomForestRegressor(n_estimators=10, \n",
    "                                                                              #max_features=200, \n",
    "                                                                              n_jobs=-1,\n",
    "                                                                              random_state=42,\n",
    "                                                                              verbose=False))\n",
    "pipe_forest.fit(X_train, y_train)\n",
    "\n",
    "param_grid = {'imputer__strategy': ['mean', 'median', 'most_frequent']}\n",
    "\n",
    "grid = GridSearchCV(pipe_forest, param_grid=param_grid, cv=3, n_jobs=-1)\n",
    "grid.fit(X_train, y_train)\n",
    "\n",
    "print('Best CV Accuracy: {:.3f}'.format(grid.best_score_))\n",
    "print('Test Set Score: {:.3f}'.format(grid.score(X_test, y_test)))\n",
    "print('Best_Parameters: {}'.format(grid.best_params_))\n",
    "print('RMSE: {}'.format(mean_squared_error(y_test, grid.predict(X_test))))"
   ]
  },
  {
   "cell_type": "code",
   "execution_count": null,
   "metadata": {
    "collapsed": false
   },
   "outputs": [],
   "source": [
    "imp = Imputer(strategy='median')\n",
    "rfg = RandomForestRegressor(n_estimators=10,\n",
    "                           n_jobs=-1)\n",
    "\n",
    "X_train, X_test, y_train, y_test = train_test_split(x_cat, y['repayment_rate'], random_state = 42)  \n",
    "\n",
    "X_train_imp = imp.fit_transform(X_train)\n",
    "rfg.fit(X_train_imp, y_train)\n",
    "X_test_imp = imp.fit_transform(X_test)\n",
    "\n",
    "print('Train Set Score: {:.3f}'.format(rfg.score(X_train_imp, y_train)))\n",
    "print('Test Set Score: {:.3f}'.format(rfg.score(X_test_imp, y_test)))\n",
    "print('RMSE: {}'.format(mean_squared_error(y_test, rfg.predict(X_test_imp))))"
   ]
  },
  {
   "cell_type": "code",
   "execution_count": null,
   "metadata": {
    "collapsed": false,
    "scrolled": false
   },
   "outputs": [],
   "source": [
    "def plot_feature_importance(model):\n",
    "    n_features = x_cat.shape[1]\n",
    "    plt.barh(range(n_features), model.feature_importances_, align='center')\n",
    "    plt.yticks(np.arange(n_features), data.columns) #np.arange(n_features))\n",
    "    plt.xlabel('feature importance')\n",
    "    plt.ylabel('feature')\n",
    "plt.figure(figsize=(15,200))\n",
    "plt.xlim(0, 0.001)    \n",
    "plot_feature_importance(rfg)"
   ]
  },
  {
   "cell_type": "code",
   "execution_count": null,
   "metadata": {
    "collapsed": false
   },
   "outputs": [],
   "source": [
    "from itertools import compress\n",
    "\n",
    "fil = rfg.feature_importances_ > 0.001\n",
    "best_features = list(compress(data.columns, fil))\n",
    "\n",
    "imp = Imputer(strategy='median')\n",
    "rfg = RandomForestRegressor(n_estimators=30,\n",
    "                           n_jobs=-1)\n",
    "\n",
    "data=x_cat\n",
    "\n",
    "X_train, X_test, y_train, y_test = train_test_split(data.loc[:,best_features], y['repayment_rate'], random_state = 42)  \n",
    "\n",
    "X_train_imp = imp.fit_transform(X_train)\n",
    "rfg.fit(X_train_imp, y_train)\n",
    "X_test_imp = imp.fit_transform(X_test)\n",
    "\n",
    "print('Train Set Score: {:.3f}'.format(rfg.score(X_train_imp, y_train)))\n",
    "print('Test Set Score: {:.3f}'.format(rfg.score(X_test_imp, y_test)))\n",
    "print('RMSE: {}'.format(mean_squared_error(y_test, rfg.predict(X_test_imp))))"
   ]
  },
  {
   "cell_type": "code",
   "execution_count": null,
   "metadata": {
    "collapsed": false,
    "scrolled": true
   },
   "outputs": [],
   "source": [
    "x = pd.read_csv('train_values.csv', index_col='row_id')\n",
    "x = pd.get_dummies(x, sparse=True)\n",
    "y = pd.read_csv('train_labels.csv', index_col='row_id')\n",
    "\n",
    "imp = Imputer(strategy='median')\n",
    "rfg = RandomForestRegressor(n_estimators=30,\n",
    "                           n_jobs=-1)\n",
    "\n",
    "X_train, X_test, y_train, y_test = train_test_split(x, y['repayment_rate'], random_state = 42)  \n",
    "\n",
    "X_train_imp = imp.fit_transform(X_train)\n",
    "rfg.fit(X_train_imp, y_train)\n",
    "X_test_imp = imp.fit_transform(X_test)\n",
    "\n",
    "print('Train Set Score: {:.3f}'.format(rfg.score(X_train_imp, y_train)))\n",
    "print('Test Set Score: {:.3f}'.format(rfg.score(X_test_imp, y_test)))\n",
    "print('RMSE: {}'.format(mean_squared_error(y_test, rfg.predict(X_test_imp))))"
   ]
  },
  {
   "cell_type": "code",
   "execution_count": null,
   "metadata": {
    "collapsed": false,
    "scrolled": false
   },
   "outputs": [],
   "source": [
    "def plot_feature_importance(model, dataframe):\n",
    "    n_features = dataframe.shape[1]\n",
    "    plt.barh(range(n_features), model.feature_importances_, align='center')\n",
    "    plt.yticks(np.arange(n_features), x.columns) #np.arange(n_features))\n",
    "    plt.xlabel('feature importance')\n",
    "    plt.ylabel('feature')\n",
    "plt.figure(figsize=(15,200))\n",
    "plt.xlim(0, 0.001)    \n",
    "plot_feature_importance(rfg, x)"
   ]
  },
  {
   "cell_type": "code",
   "execution_count": null,
   "metadata": {
    "collapsed": false
   },
   "outputs": [],
   "source": [
    "x = pd.read_csv('train_values.csv', index_col='row_id')\n",
    "x = pd.get_dummies(x, sparse=True)\n",
    "y = pd.read_csv('train_labels.csv', index_col='row_id')\n",
    "\n",
    "X_train, X_test, y_train, y_test = train_test_split(x, y['repayment_rate'], random_state = 42)  \n",
    "\n",
    "X_train_imp = imp.fit_transform(X_train)\n",
    "\n",
    "rfg = RandomForestRegressor(n_jobs=-1, max_features=200)\n",
    "rfg.fit(X_train_imp, y_train)\n",
    "X_test_imp = imp.fit_transform(X_test)\n",
    "\n",
    "print('Train Set Score: {:.3f}'.format(rfg.score(X_train_imp, y_train)))\n",
    "print('Test Set Score: {:.3f}'.format(rfg.score(X_test_imp, y_test)))\n",
    "print('RMSE: {}'.format(mean_squared_error(y_test, rfg.predict(X_test_imp))))"
   ]
  },
  {
   "cell_type": "markdown",
   "metadata": {},
   "source": [
    "### Since I'm using decision trees, feature selection doesn't really matter. So I'll start a new notebook based on this."
   ]
  }
 ],
 "metadata": {
  "kernelspec": {
   "display_name": "Python 3",
   "language": "python",
   "name": "python3"
  },
  "language_info": {
   "codemirror_mode": {
    "name": "ipython",
    "version": 3
   },
   "file_extension": ".py",
   "mimetype": "text/x-python",
   "name": "python",
   "nbconvert_exporter": "python",
   "pygments_lexer": "ipython3",
   "version": "3.6.0"
  }
 },
 "nbformat": 4,
 "nbformat_minor": 2
}
